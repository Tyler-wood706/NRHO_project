{
 "cells": [
  {
   "cell_type": "markdown",
   "metadata": {
    "slideshow": {
     "slide_type": "slide"
    }
   },
   "source": [
    "# Introduction to VPython\n",
    "VPython Homepage -- vpython.org"
   ]
  },
  {
   "cell_type": "markdown",
   "metadata": {
    "slideshow": {
     "slide_type": "slide"
    }
   },
   "source": [
    "# VPython is a 3D visualization tool\n",
    "Used to create really neat interactive 3D models and animations.\n",
    "![motor](https://circuitdigest.com/sites/default/files/inlineimages/vpython-example-electric-motor.png)\n",
    "![fractal](https://camo.githubusercontent.com/fb280125271938721423b1b09a257c07cc0b8d42/68747470733a2f2f7261772e6769746875622e636f6d2f7261676e72616f6b2f52616e646f6d4672616374616c5465727261696e2d56707974686f6e2f6d61737465722f44656570696e5363726f742d313232322e706e67)"
   ]
  },
  {
   "cell_type": "markdown",
   "metadata": {
    "slideshow": {
     "slide_type": "slide"
    }
   },
   "source": [
    "# Getting VPython\n",
    "To use VPython in a jupyter notebook, the modules `vpython` and `nodejs` needs to be installed."
   ]
  },
  {
   "cell_type": "code",
   "execution_count": null,
   "metadata": {
    "slideshow": {
     "slide_type": "-"
    }
   },
   "outputs": [],
   "source": [
    "!pip install vpython"
   ]
  },
  {
   "cell_type": "code",
   "execution_count": null,
   "metadata": {
    "slideshow": {
     "slide_type": "-"
    }
   },
   "outputs": [],
   "source": [
    "!pip install nodejs"
   ]
  },
  {
   "cell_type": "code",
   "execution_count": null,
   "metadata": {
    "slideshow": {
     "slide_type": "-"
    }
   },
   "outputs": [],
   "source": [
    "from vpython import *"
   ]
  },
  {
   "cell_type": "markdown",
   "metadata": {
    "slideshow": {
     "slide_type": "slide"
    }
   },
   "source": [
    "# The `canvas`\n",
    "All programs you write will be desplayed in a `canvas()`.\n",
    "\n",
    "When VPython is imported (thus in the same cell), there is a default canvas created called `scene` that all objects and statements will output to."
   ]
  },
  {
   "cell_type": "code",
   "execution_count": null,
   "metadata": {},
   "outputs": [],
   "source": [
    "box()"
   ]
  },
  {
   "cell_type": "code",
   "execution_count": null,
   "metadata": {},
   "outputs": [],
   "source": [
    "sphere(canvas=scene)"
   ]
  },
  {
   "cell_type": "markdown",
   "metadata": {},
   "source": [
    "The downside of this is that whatever code we write will be displayed in the last canvas, even if its in a previous cell."
   ]
  },
  {
   "cell_type": "markdown",
   "metadata": {
    "slideshow": {
     "slide_type": "subslide"
    }
   },
   "source": [
    "# Custom canvases\n",
    "To make more than one canvas, simply call the `canvas()` function and assign it to a variable."
   ]
  },
  {
   "cell_type": "code",
   "execution_count": null,
   "metadata": {},
   "outputs": [],
   "source": [
    "c1 = canvas()"
   ]
  },
  {
   "cell_type": "markdown",
   "metadata": {},
   "source": [
    "This can then be assigned to the `canvas` keyword in following 3D objects:"
   ]
  },
  {
   "cell_type": "code",
   "execution_count": null,
   "metadata": {},
   "outputs": [],
   "source": [
    "cylinder(canvas=c1) "
   ]
  },
  {
   "cell_type": "markdown",
   "metadata": {
    "slideshow": {
     "slide_type": "slide"
    }
   },
   "source": [
    "# 3D Objects\n",
    "As we've discovered before, to create a shape all you do is call the 3D object you want. The following are available 3D objects you can use:\n",
    "- box, sphere, cylinder, cone, arrow, curve, ellipsoid, extrusion, helix, labels, lights, points, pyramid, ring, and text. \n",
    "- Custom 3D objects can also be created by defining many triangles or rectangles (called quads) at once. Interstingly, this is how all 3D games are rendered today. "
   ]
  },
  {
   "cell_type": "code",
   "execution_count": null,
   "metadata": {},
   "outputs": [],
   "source": [
    "canvas()\n",
    "helix()"
   ]
  },
  {
   "cell_type": "markdown",
   "metadata": {
    "slideshow": {
     "slide_type": "slide"
    }
   },
   "source": [
    "# Parameters\n",
    "We can't just have white unit-sized shapes. All 3D shapes have parameters that can be changed to alter how the shape looks.\n",
    "\n",
    "`mybox = box(pos=vector(x0,y0,z0), axis=vector(a,b,c), length=L, height=H, width=W, up=vector(q,r,s))`\n",
    "![Image](https://www.glowscript.org/docs/VPythonDocs/images/box_axis_up.png)"
   ]
  },
  {
   "cell_type": "code",
   "execution_count": null,
   "metadata": {
    "slideshow": {
     "slide_type": "subslide"
    }
   },
   "outputs": [],
   "source": [
    "c1 = canvas()\n",
    "x = arrow(axis=vector(1, 0, 0), length=8, shaftwidth=0.05)\n",
    "y = arrow(axis=vector(0, 1, 0), length=8, shaftwidth=0.05)\n",
    "z = arrow(axis=vector(0, 0, 1), length=8, shaftwidth=0.05)\n",
    "mybox = box(pos=vector(0, 0, 0), axis=vector(1, 1, 1), size=vector(2, 1, 1))\n",
    "center = arrow(axis=mybox.pos, shaftwidth=0.05)"
   ]
  },
  {
   "cell_type": "markdown",
   "metadata": {
    "slideshow": {
     "slide_type": "slide"
    }
   },
   "source": [
    "# Text\n",
    "Text can be added to the scene with a `text` 3D object or with a `label`."
   ]
  },
  {
   "cell_type": "code",
   "execution_count": null,
   "metadata": {
    "slideshow": {
     "slide_type": "-"
    }
   },
   "outputs": [],
   "source": [
    "c1 = canvas()\n",
    "x = arrow(axis=vector(1, 0, 0), length=8, shaftwidth=0.05, round=True)\n",
    "y = arrow(axis=vector(0, 1, 0), length=8, shaftwidth=0.05, round=True)\n",
    "z = arrow(axis=vector(0, 0, 1), length=8, shaftwidth=0.05, round=True)\n",
    "mysphere = sphere(pos=vector(0, 0, 0), radius=2, opacity=0.5)\n",
    "\n",
    "xt = text(canvas=c1, text='x-axis', pos=vector(8, 1, 0), align='center')\n",
    "yt = text(canvas=c1, text='y-axis', pos=vector(0, 9, 0), align='left', billboard=True)\n",
    "zt = label(canvas=c1, text='z-axis', pos=vector(0, 1, 8), align='right')"
   ]
  },
  {
   "cell_type": "markdown",
   "metadata": {
    "slideshow": {
     "slide_type": "slide"
    }
   },
   "source": [
    "# Textures + Colors\n",
    "You can change the color of the 3D object or even give it a texture; however, the formatting is odd...\n",
    "- The default colors and textures are within respective objects:\n",
    "    - To create a wood texture, you'll type `textures.wood`.\n",
    "    - Similarly, a red color is `color.red`.\n",
    "- A color can also be represented as a vector of values between 0 and 1.\n",
    "    - `color = vector(R, G, B)`\n",
    "- Any texture can be added with a link or path to a file.\n",
    "    - Note: to use a link, the website has to be CORS (Cross-Origin Resource Sharing) enabled. A well known one to use is https://imgur.com."
   ]
  },
  {
   "cell_type": "code",
   "execution_count": null,
   "metadata": {},
   "outputs": [],
   "source": [
    "canvas()\n",
    "# box(color=color.red)\n",
    "sphere(texture='https://i.imgur.com/7XyId7s.jpg')"
   ]
  },
  {
   "cell_type": "markdown",
   "metadata": {
    "slideshow": {
     "slide_type": "slide"
    }
   },
   "source": [
    "# Buttons & Sliders\n",
    "You can also create buttons, sliders, and drop-down menus, among other things. To utilize them, you \"bind\" a function to the widget object."
   ]
  },
  {
   "cell_type": "code",
   "execution_count": null,
   "metadata": {
    "slideshow": {
     "slide_type": "subslide"
    }
   },
   "outputs": [],
   "source": [
    "import numpy as np\n",
    "canvas()"
   ]
  },
  {
   "cell_type": "code",
   "execution_count": null,
   "metadata": {
    "slideshow": {
     "slide_type": "-"
    }
   },
   "outputs": [],
   "source": [
    "mybox = box(pos=vector(1, 0, 0), color=color.red)\n",
    "\n",
    "#slider to translate sphere\n",
    "def pos(p):\n",
    "    mybox.pos = vector(np.cos(p.value), np.sin(p.value), 0)\n",
    "    wt.text = '{:.0f} deg  '.format(np.degrees(p.value))\n",
    "s1 = slider(min=0, max=2 * np.pi, value=0, length=220, bind=pos, right=15)\n",
    "wt = wtext(text='{:.0f} deg  '.format(np.degrees(s1.value)))\n",
    "scene.append_to_caption('\\n')\n",
    "\n",
    "#radio button to choose color\n",
    "def Color(c):\n",
    "    if mybox.color == color.cyan and r1.checked == True: # change to red\n",
    "        mybox.color = color.red\n",
    "        r1.checked = True\n",
    "        r2.checked = False\n",
    "    elif mybox.color == color.red and r2.checked == True: # change to cyan\n",
    "        mybox.color = color.cyan\n",
    "        r1.checked = False\n",
    "        r2.checked = True\n",
    "r1 = radio(bind=Color, checked=True, text='Red  ')\n",
    "scene.append_to_caption('\\n') \n",
    "r2 = radio(bind=Color, text='Cyan  ')"
   ]
  },
  {
   "cell_type": "markdown",
   "metadata": {
    "slideshow": {
     "slide_type": "slide"
    }
   },
   "source": [
    "# Lighting\n",
    "You can light a scene with a `distant_light()` (think the Sun), or a `local_light()` (think a lamp)."
   ]
  },
  {
   "cell_type": "code",
   "execution_count": null,
   "metadata": {},
   "outputs": [],
   "source": [
    "canvas(center=vector(1, 0, 0))\n",
    "scene.lights = []\n",
    "Earth = sphere(texture=textures.earth)\n",
    "Moon = sphere(pos=vector(2, 0, 0), radius=0.5, texture='https://i.imgur.com/7XyId7s.jpg')\n",
    "\n",
    "sun = distant_light(direction=vector(0, 1, 0), color=color.white)\n",
    "lamp1 = local_light(pos=vector(1.2, 0, 0), color=color.yellow)\n",
    "lamp2 = sphere(pos=vector(1.2, 0, 0), radius=0.02, color=color.yellow, emissive=True)"
   ]
  },
  {
   "cell_type": "markdown",
   "metadata": {
    "slideshow": {
     "slide_type": "slide"
    }
   },
   "source": [
    "# Animations\n",
    "To animate objects, you put the modifiying code inside a `while` statement.\n",
    "- To make it actually show, you have to include a `rate()` statement, where the inner argument is the \"frequency of calculations\".\n",
    "```\n",
    "while True:\n",
    "    rate(1000)\n",
    "    # Modifying code here\n",
    "```"
   ]
  },
  {
   "cell_type": "markdown",
   "metadata": {
    "slideshow": {
     "slide_type": "subslide"
    }
   },
   "source": [
    "# Applications/Examples\n",
    "## Intermediate Axis Theorem"
   ]
  },
  {
   "cell_type": "code",
   "execution_count": null,
   "metadata": {},
   "outputs": [],
   "source": [
    "from IPython.lib.display import YouTubeVideo\n",
    "YouTubeVideo('1n-HMSCDYtM')"
   ]
  },
  {
   "cell_type": "code",
   "execution_count": null,
   "metadata": {
    "slideshow": {
     "slide_type": "subslide"
    }
   },
   "outputs": [],
   "source": [
    "scene = canvas()"
   ]
  },
  {
   "cell_type": "code",
   "execution_count": null,
   "metadata": {
    "slideshow": {
     "slide_type": "-"
    }
   },
   "outputs": [],
   "source": [
    "scene.width = 1200\n",
    "scene.height = 600\n",
    "\n",
    "\"\"\"creating objects for t-handle, \"filler\" is simply for cleanliness\"\"\"\n",
    "\n",
    "cross = cylinder(pos=vector(0,3,0), axis=vector(0,-6,0), radius=1, mass=4) #this is the crossbar of the handle\n",
    "perp = cylinder(pos=vector(-1,0,0), axis=vector(-3,0,0), radius=.75, mass=1) #perpindicular portion\n",
    "filler = cylinder(pos=vector(-1,0,0), axis=vector(.5,0,0), radius=.75, mass=0) #fills space btwn two cylinders (is not involved in calculations)\n",
    "objects = [cross, perp, filler]\n",
    "tbar = compound(objects, omega=vector(0.01,0.01,4)) #\"frame\" makes a compound object of the objects below\n",
    "\n",
    "\"\"\"parameters and constants\"\"\"\n",
    "\n",
    "q = -(perp.length/6 + cross.radius/3) #distance between center of mass of cross and center of mass of total object\n",
    "\n",
    "#moments of intertia, Izz lies along center of mass, Ixx & Iyy need to use parallel axis theorem to find I about that axis\n",
    "Ixx = (1/2)*(cross.mass)*(cross.radius**2) + (cross.mass)*q**2 + (perp.mass/4)*(perp.radius**2) + (perp.mass/12)*(perp.length**2) + perp.mass*(perp.length/2 + cross.radius - q)\n",
    "Iyy = (1/4)*(cross.mass)*(cross.radius**2) + (1/12)*(cross.mass)*(cross.length**2) + cross.mass*(q**2) + (1/4)*perp.mass*(perp.radius**2) + (1/12)*(perp.mass)*(perp.length**2) + perp.mass*(perp.length/2 + cross.radius - q)\n",
    "Izz = (1/2)*(perp.mass)*(perp.radius**2) + (1/4)*(cross.mass)*(cross.radius**2) + (1/12)*(cross.mass)*(cross.length**2)\n",
    "\n",
    "#form a basis\n",
    "basis_vectors = []\n",
    "basis_vectors.append(vector(1.,0,0))\n",
    "basis_vectors.append(vector(0,1.,0))\n",
    "basis_vectors.append(vector(0,0,1.))\n",
    "\n",
    "\"\"\"Create axis objects\"\"\"\n",
    "\n",
    "#these objects indicate the initial orientation of the object. All share the same origin, the length 4 is for visibility\n",
    "xaxis = arrow(pos=vector(0,0,0), axis=vector(0,4,0), shaftwidth=.1, color=color.red, opacity=.5)\n",
    "yaxis = arrow(pos=vector(0,0,0), axis=vector(0,0,4), shaftwidth=.1, color=color.green, opacity=.5)\n",
    "zaxis = arrow(pos=vector(0,0,0), axis=vector(4,0,0), shaftwidth=.1, color=color.blue, opacity=.5)\n",
    "\n",
    "axis_List = [xaxis, yaxis, zaxis]    #putting the axes in a list for simplicity\n",
    "\n",
    "\"\"\"Define functions\"\"\"\n",
    "\n",
    "def find_omega_dot(w):  #function for finding omegadot using Euler's equations\n",
    "    wx_dot = (Iyy-Izz)*w.y*w.z/Ixx\n",
    "    wy_dot = (Izz-Ixx)*w.z*w.x/Iyy\n",
    "    wz_dot = (Ixx-Iyy)*w.x*w.y/Izz\n",
    "    w_dot = vector(wx_dot, wy_dot, wz_dot)\n",
    "    return(w_dot)\n",
    "\n",
    "def update_omega(w,wdot): #updating angular momentum\n",
    "    w.x = w.x + dt*wdot.x\n",
    "    w.y = w.y + dt*wdot.y\n",
    "    w.z = w.z + dt*wdot.z\n",
    "    \n",
    "def rotate_tbar(obj,axes):   #rotating the tbar in the graphics\n",
    "    obj.rotate(angle=obj.omega.x*dt, axis=norm(axes[0].axis), origin=obj.pos)\n",
    "    obj.rotate(angle=obj.omega.y*dt, axis=norm(axes[1].axis), origin=obj.pos)\n",
    "    obj.rotate(angle=obj.omega.z*dt, axis=norm(axes[2].axis), origin=obj.pos)\n",
    "\n",
    "def update_axis(obj,axes,w): #rotating the vectors and adjusting length to be proportional to angular momentum\n",
    "    old = axes\n",
    "    for i in range(len(axes)):\n",
    "        axes[i].rotate(angle=w.x*dt, axis=norm(old[0].axis), origin=obj.pos)\n",
    "        axes[i].rotate(angle=w.y*dt, axis=norm(old[1].axis), origin=obj.pos)\n",
    "        axes[i].rotate(angle=w.z*dt, axis=norm(old[2].axis), origin=obj.pos)\n",
    "\n",
    "dt = .001\n",
    "\n",
    "while True:\n",
    "    rate(1500)\n",
    "    omega_dot = find_omega_dot(tbar.omega)\n",
    "    update_omega(tbar.omega, omega_dot)\n",
    "    rotate_tbar(tbar,axis_List)\n",
    "    update_axis(tbar,axis_List, tbar.omega)"
   ]
  },
  {
   "cell_type": "markdown",
   "metadata": {
    "slideshow": {
     "slide_type": "slide"
    }
   },
   "source": [
    "# Space Station 2.0 -- The Gateway\n",
    "![Gateway](https://www.nasa.gov/sites/default/files/styles/full_width/public/thumbnails/image/gateway_hero_angles_000.png?itok=bAMWGewG)"
   ]
  },
  {
   "cell_type": "markdown",
   "metadata": {
    "slideshow": {
     "slide_type": "subslide"
    }
   },
   "source": [
    "## Near-Rectilinear Halo Orbit"
   ]
  },
  {
   "cell_type": "markdown",
   "metadata": {
    "slideshow": {
     "slide_type": "-"
    }
   },
   "source": [
    "![NRHO](NRHO.png)"
   ]
  },
  {
   "cell_type": "markdown",
   "metadata": {
    "slideshow": {
     "slide_type": "slide"
    }
   },
   "source": [
    "# Circular Restricted Three Body Problem\n",
    "![CR3BP](https://media.springernature.com/lw685/springer-static/image/art%3A10.1007%2Fs10569-020-09968-2/MediaObjects/10569_2020_9968_Fig1_HTML.png?as=webp)"
   ]
  },
  {
   "cell_type": "code",
   "execution_count": null,
   "metadata": {
    "slideshow": {
     "slide_type": "slide"
    }
   },
   "outputs": [],
   "source": [
    "scene = canvas()"
   ]
  },
  {
   "cell_type": "code",
   "execution_count": null,
   "metadata": {
    "slideshow": {
     "slide_type": "-"
    }
   },
   "outputs": [],
   "source": [
    "# NRHO\n",
    "scene.ambient = vector(0, 0, 0)\n",
    "\n",
    "# Celestial Bodies\n",
    "G = 6.674e-11 * (5.972e24 / 384400000 ** 3)\n",
    "mu = 0.0123 / 1.0123\n",
    "earth = sphere(radius = 0.01657388, mass = 1 - mu, pos = vector(-mu, 0, 0), texture = textures.earth)\n",
    "moon = sphere(radius = 0.00451977, mass = mu, v = vector(0, 0, 0), pos = vector(1 - mu, 0, 0), texture = 'https://i.imgur.com/0lAj5pJ.jpg', make_trail = True)\n",
    "moon_p = moon.mass * moon.v\n",
    "sun = sphere(radius = 109, pos = vector(0, 0, -23481.4), emissive = True, texture = 'https://i.imgur.com/XdRTvzj.jpg')\n",
    "\n",
    "# Gateway Parameters\n",
    "posit = moon.pos + vector( 100 / 384400, -3000 / 384400, 0)\n",
    "m_radius = moon.pos - posit\n",
    "gateway = box(size = vector(100 / 384400000, 100 / 384400000, 100 / 384400000), pos = posit, mass = 7.028e-20, make_trail = True, texture = textures.metal)\n",
    "# gateway_vvect = rotate(m_radius, angle = -pi / 2, axis = -gateway.axis)\n",
    "gateway_vvect = vector(0.2, 0, 1)\n",
    "arrow(pos = gateway.pos, axis = m_radius, shaftwidth = 0.005)\n",
    "arrow(pos = gateway.pos, axis = gateway_vvect, shaftwidth = 0.005, color = color.yellow, emissive = True)\n",
    "gateway.v = (1.65) * gateway_vvect.hat\n",
    "\n",
    "local_light(pos = sun.pos)\n",
    "scene.camera.follow(earth)\n",
    "scene.range = 3 * earth.radius\n",
    "\n",
    "e_label = label(pos = earth.pos, text = 'Earth', yoffset = 50, xoffset = -10)\n",
    "g_label = label(pos = gateway.pos, text = 'Gateway', yoffset = 25, xoffset = 30)\n",
    "m_label = label(pos = moon.pos, text = 'Moon', yoffset = 50, xoffset = -10)\n",
    "s_label = label(pos = sun.pos, text = 'Sun', yoffset = 50, xoffset = -10)\n",
    "\n",
    "is_clicked = False\n",
    "def Play(b):\n",
    "    global is_clicked\n",
    "    is_clicked = not is_clicked\n",
    "    if is_clicked: b.text = \"Pause\"\n",
    "    else: b.text = \"Play\"\n",
    "play = button(bind = Play, text = 'Play')\n",
    "\n",
    "bod = 0\n",
    "def body1(b):\n",
    "    global bod\n",
    "    if bod != 0:\n",
    "        b1.checked = True\n",
    "        b2.checked = False\n",
    "        b3.checked = False\n",
    "        b4.checked = False\n",
    "        bod = 0\n",
    "        scene.camera.follow(earth)\n",
    "        scene.range = 3 * earth.radius\n",
    "def body2(b):\n",
    "    global bod\n",
    "    if bod != 1:\n",
    "        b1.checked = False\n",
    "        b2.checked = True\n",
    "        b3.checked = False\n",
    "        b4.checked = False\n",
    "        bod = 1\n",
    "        scene.camera.follow(gateway)\n",
    "        scene.range = 3 * mag(gateway.size)\n",
    "def body3(b):\n",
    "    global bod\n",
    "    if bod != 2:\n",
    "        b1.checked = False\n",
    "        b2.checked = False\n",
    "        b3.checked = True\n",
    "        b4.checked = False\n",
    "        bod = 2\n",
    "        scene.camera.follow(moon)\n",
    "        scene.range = 3 * moon.radius\n",
    "def body4(b):\n",
    "    global bod\n",
    "    if bod != 3:\n",
    "        b1.checked = False\n",
    "        b2.checked = False\n",
    "        b3.checked = False\n",
    "        b4.checked = True\n",
    "        bod = 3\n",
    "        scene.camera.follow(sun)\n",
    "        scene.range = 3 * sun.radius\n",
    "        \n",
    "b1 = radio(bind = body1, checked = True, text = ' Earth    ')\n",
    "b2 = radio(bind = body2, checked = False, text = ' Gateway    ')\n",
    "b3 = radio(bind = body3, checked = False, text = ' Moon    ')\n",
    "b4 = radio(bind = body4, checked = False, text = ' Sun\\n\\n')\n",
    "\n",
    "def speed(s):\n",
    "    wt.text = '{:d} Hz'.format(s.value)\n",
    "    dt = s.value\n",
    "wtext(text = 'Animation Speed  ')\n",
    "speed_slider = slider(bind = speed, min = 2000, max = 20000, value = 2000, length = 450)\n",
    "wt = wtext(text = '{:d} Hz'.format(speed_slider.value))\n",
    "\n",
    "go = True\n",
    "while (go):\n",
    "    rate(speed_slider.value)\n",
    "    if is_clicked:\n",
    "        dt = 0.00001\n",
    "        x, y, z = gateway.pos.x, gateway.pos.y, gateway.pos.z\n",
    "        vx, vy, vz = gateway.v.x, gateway.v.y, gateway.v.z\n",
    "        Ux = x - ((1 - mu) * (x + mu) * ((x + mu)**2 + y**2 + z**2)**(-3/2)) - (mu * (x - 1 + mu) * ((x - 1 + mu)**2 + y**2 + z**2)**(-3/2))\n",
    "        Uy = y - (y * (1 - mu) * ((x + mu)**2 + y**2 + z**2)**(-3/2)) - (mu * y * ((x - 1 + mu)**2 + y**2 + z**2)**(-3/2))\n",
    "        Uz = - (z * (1 - mu) * ((x + mu)**2 + y**2 + z**2)**(-3/2)) - (mu * z * ((x - 1 + mu)**2 + y**2 + z**2)**(-3/2))\n",
    "        \n",
    "        vx += (Ux + 2 * vy) * dt\n",
    "        vy += (Uy - 2 * vx) * dt\n",
    "        vz += Uz * dt\n",
    "        gateway.v = vector(vx, vy, vz)\n",
    "        \n",
    "        x += vx * dt\n",
    "        y += vy * dt\n",
    "        z += vz * dt\n",
    "        gateway.pos = vector(x, y, z)\n",
    "        \n",
    "        if mag(gateway.pos - moon.pos) < moon.radius:\n",
    "            wtext(text = '\\nCrashed!')\n",
    "            go = False\n",
    "        g_label.pos = gateway.pos"
   ]
  },
  {
   "cell_type": "markdown",
   "metadata": {
    "slideshow": {
     "slide_type": "slide"
    }
   },
   "source": [
    "# Credit\n",
    "- https://link.springer.com/article/10.1007/s10569-020-09968-2\n",
    "- https://ntrs.nasa.gov/api/citations/20190030294/downloads/20190030294.pdf\n",
    "- https://www.sciencedirect.com/science/article/pii/S0094576519313773\n",
    "- https://en.wikipedia.org/wiki/Lagrange_point#/media/File:Lagrangian_points_equipotential.jpg\n",
    "- https://www.nasa.gov/gateway\n",
    "- https://vpython.org/"
   ]
  }
 ],
 "metadata": {
  "celltoolbar": "Slideshow",
  "kernelspec": {
   "display_name": "Python 3",
   "language": "python",
   "name": "python3"
  },
  "language_info": {
   "codemirror_mode": {
    "name": "ipython",
    "version": 3
   },
   "file_extension": ".py",
   "mimetype": "text/x-python",
   "name": "python",
   "nbconvert_exporter": "python",
   "pygments_lexer": "ipython3",
   "version": "3.8.5"
  }
 },
 "nbformat": 4,
 "nbformat_minor": 4
}
